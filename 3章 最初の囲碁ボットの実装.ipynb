{
 "cells": [
  {
   "cell_type": "markdown",
   "metadata": {},
   "source": [
    "マスターブランチ  \n",
    "https://github.com/maxpumperla/deep_learning_and_the_game_of_go"
   ]
  },
  {
   "cell_type": "markdown",
   "metadata": {},
   "source": [
    "P73までのコードはモジュールとして実装  \n",
    "dlgo/gotypes.py: データ型 Player, Pointを定義  \n",
    "dlgo/goboard_slow.py: 囲碁のルール，着手(Move)，連(GoString)，打石のシステム(Board)を実装．自殺手と劫を禁じる  \n",
    "dlgo/utils.py: 着手の内容と碁盤の状況出力(print_move, print_board)  \n",
    "dlgo/agent/base.py: プレイヤーボットのインタフェース(Agent)  \n",
    "dlgo/agent/helpers.py: 打石点が眼であるかを判定する関数(is_point_an_eye)を実装  \n",
    "dlgo/agent/naive.py: 眼をつぶさず，禁じ手にならなければあとはランダムで打石する，最弱ボット(RandomBot)  "
   ]
  },
  {
   "cell_type": "markdown",
   "metadata": {},
   "source": [
    "ボット同士で対局させる (bot_v_bot.pyを基に作成)"
   ]
  },
  {
   "cell_type": "code",
   "execution_count": 6,
   "metadata": {},
   "outputs": [],
   "source": [
    "from dlgo import agent, goboard_slow as goboard, gotypes\n",
    "from dlgo.utils import print_board, print_move\n",
    "import time\n",
    "from IPython.display import clear_output"
   ]
  },
  {
   "cell_type": "code",
   "execution_count": 7,
   "metadata": {},
   "outputs": [
    {
     "ename": "AttributeError",
     "evalue": "module 'dlgo.goboard_slow' has no attribute 'GameState'",
     "output_type": "error",
     "traceback": [
      "\u001b[1;31m---------------------------------------------------------------------------\u001b[0m",
      "\u001b[1;31mAttributeError\u001b[0m                            Traceback (most recent call last)",
      "\u001b[1;32m<ipython-input-7-5b5fced143a4>\u001b[0m in \u001b[0;36m<module>\u001b[1;34m\u001b[0m\n\u001b[0;32m      1\u001b[0m \u001b[0mboard_size\u001b[0m \u001b[1;33m=\u001b[0m \u001b[1;36m9\u001b[0m\u001b[1;33m\u001b[0m\u001b[1;33m\u001b[0m\u001b[0m\n\u001b[1;32m----> 2\u001b[1;33m \u001b[0mgame\u001b[0m \u001b[1;33m=\u001b[0m \u001b[0mgoboard\u001b[0m\u001b[1;33m.\u001b[0m\u001b[0mGameState\u001b[0m\u001b[1;33m.\u001b[0m\u001b[0mnew_game\u001b[0m\u001b[1;33m(\u001b[0m\u001b[0mboard_size\u001b[0m\u001b[1;33m)\u001b[0m\u001b[1;33m\u001b[0m\u001b[1;33m\u001b[0m\u001b[0m\n\u001b[0m\u001b[0;32m      3\u001b[0m bots = {\n\u001b[0;32m      4\u001b[0m     \u001b[0mgotypes\u001b[0m\u001b[1;33m.\u001b[0m\u001b[0mPlayer\u001b[0m\u001b[1;33m.\u001b[0m\u001b[0mblack\u001b[0m\u001b[1;33m:\u001b[0m \u001b[0magent\u001b[0m\u001b[1;33m.\u001b[0m\u001b[0mRandomBot\u001b[0m\u001b[1;33m(\u001b[0m\u001b[1;33m)\u001b[0m\u001b[1;33m,\u001b[0m\u001b[1;33m\u001b[0m\u001b[1;33m\u001b[0m\u001b[0m\n\u001b[0;32m      5\u001b[0m     \u001b[0mgotypes\u001b[0m\u001b[1;33m.\u001b[0m\u001b[0mPlayer\u001b[0m\u001b[1;33m.\u001b[0m\u001b[0mwhite\u001b[0m\u001b[1;33m:\u001b[0m \u001b[0magent\u001b[0m\u001b[1;33m.\u001b[0m\u001b[0mRandomBot\u001b[0m\u001b[1;33m(\u001b[0m\u001b[1;33m)\u001b[0m\u001b[1;33m\u001b[0m\u001b[1;33m\u001b[0m\u001b[0m\n",
      "\u001b[1;31mAttributeError\u001b[0m: module 'dlgo.goboard_slow' has no attribute 'GameState'"
     ]
    }
   ],
   "source": [
    "board_size = 9\n",
    "game = goboard.GameState.new_game(board_size)\n",
    "bots = {\n",
    "    gotypes.Player.black: agent.RandomBot(),\n",
    "    gotypes.Player.white: agent.RandomBot()\n",
    "}\n",
    "\n",
    "while not game.is_over():\n",
    "    time.sleep(0.3) # ボットの着手が早すぎるので見えるよう調整\n",
    "    \n",
    "    # print(chr(27) + \"[2J\") # 着手する前に画面をクリア\n",
    "    clear_output()\n",
    "    \n",
    "    print_board(game.board)\n",
    "    bot_move = bots[game.next_player].select_move(game)\n",
    "    print_move(game.next_player, bot_move)\n",
    "    game = game.apply_move(bot_move)\n",
    "\n",
    "print(\"GAME OVER!\")"
   ]
  }
 ],
 "metadata": {
  "kernelspec": {
   "display_name": "Python 3",
   "language": "python",
   "name": "python3"
  },
  "language_info": {
   "codemirror_mode": {
    "name": "ipython",
    "version": 3
   },
   "file_extension": ".py",
   "mimetype": "text/x-python",
   "name": "python",
   "nbconvert_exporter": "python",
   "pygments_lexer": "ipython3",
   "version": "3.7.3"
  }
 },
 "nbformat": 4,
 "nbformat_minor": 2
}
