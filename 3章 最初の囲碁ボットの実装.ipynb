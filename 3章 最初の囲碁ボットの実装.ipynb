{
 "cells": [
  {
   "cell_type": "markdown",
   "metadata": {},
   "source": [
    "マスターブランチ  \n",
    "https://github.com/maxpumperla/deep_learning_and_the_game_of_go"
   ]
  },
  {
   "cell_type": "markdown",
   "metadata": {},
   "source": [
    "P73までのコードはモジュールとして実装  \n",
    "dlgo/gotypes.py: データ型 Player, Pointを定義  \n",
    "dlgo/goboard_slow.py: 囲碁のルール，着手(Move)，連(GoString)，打石のシステム(Board)を実装．自殺手と劫を禁じる  \n",
    "dlgo/utils.py: 着手の内容と碁盤の状況出力(print_move, print_board)  \n",
    "dlgo/agent/base.py: プレイヤーボットのインタフェース(Agent)  \n",
    "dlgo/agent/helpers.py: 打石点が眼であるかを判定する関数(is_point_an_eye)を実装  \n",
    "dlgo/agent/naive.py: 眼をつぶさず，禁じ手にならなければあとはランダムで打石する，最弱ボット(RandomBot)  "
   ]
  },
  {
   "cell_type": "markdown",
   "metadata": {},
   "source": [
    "ボット同士で対局させる (bot_v_bot.pyを基に作成)"
   ]
  },
  {
   "cell_type": "code",
   "execution_count": 1,
   "metadata": {},
   "outputs": [],
   "source": [
    "from dlgo import gotypes\n",
    "from dlgo import goboard_slow as goboard\n",
    "from dlgo.agent.naive import RandomBot\n",
    "from dlgo.utils import print_board, print_move\n",
    "import time\n",
    "from IPython.display import clear_output"
   ]
  },
  {
   "cell_type": "code",
   "execution_count": 3,
   "metadata": {},
   "outputs": [
    {
     "name": "stdout",
     "output_type": "stream",
     "text": [
      " 9 xxxxxxooo\n",
      " 8 xooxxoxox\n",
      " 7 oxxoxoxxx\n",
      " 6 ooooxoxxx\n",
      " 5 ooxxxxxoo\n",
      " 4 xxooooxoo\n",
      " 3 ooooxxooo\n",
      " 2 oxoooxoxx\n",
      " 1 xxooxxoxx\n",
      "   ABCDEFGHI\n",
      "Player.black passes\n",
      "GAME OVER!\n"
     ]
    }
   ],
   "source": [
    "board_size = 9\n",
    "game = goboard.GameState.new_game(board_size)\n",
    "bots = {\n",
    "    gotypes.Player.black: RandomBot(),\n",
    "    gotypes.Player.white: RandomBot()\n",
    "}\n",
    "\n",
    "while not game.is_over():\n",
    "    time.sleep(1.0) # ボットの着手が早すぎるので見えるよう調整\n",
    "    \n",
    "    # print(chr(27) + \"[2J\") # 着手する前に画面をクリア\n",
    "    clear_output()\n",
    "    \n",
    "    print_board(game.board)\n",
    "    bot_move = bots[game.next_player].select_move(game)\n",
    "    print_move(game.next_player, bot_move)\n",
    "    game = game.apply_move(bot_move)\n",
    "\n",
    "print(\"GAME OVER!\")"
   ]
  }
 ],
 "metadata": {
  "kernelspec": {
   "display_name": "Python 3",
   "language": "python",
   "name": "python3"
  },
  "language_info": {
   "codemirror_mode": {
    "name": "ipython",
    "version": 3
   },
   "file_extension": ".py",
   "mimetype": "text/x-python",
   "name": "python",
   "nbconvert_exporter": "python",
   "pygments_lexer": "ipython3",
   "version": "3.7.3"
  }
 },
 "nbformat": 4,
 "nbformat_minor": 2
}
