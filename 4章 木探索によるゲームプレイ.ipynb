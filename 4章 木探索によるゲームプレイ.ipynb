{
 "cells": [
  {
   "cell_type": "markdown",
   "metadata": {},
   "source": [
    "- ミニマックスアルゴリズムで最善の手を見つける\n",
    "- ミニマックス木探索を枝仮によってスピードアップ\n",
    "- モンテカルロ木探索"
   ]
  },
  {
   "cell_type": "markdown",
   "metadata": {},
   "source": [
    "木探索: 多くの可能な一連の決定から，最良の結果につながるものを見つける  \n",
    "ミニマックス: 各手番で視点を交代し，最適な手順を見つける．遅い．  \n",
    "枝刈り: 最適でないとわかっている木の枝の部分を除外して高速化  \n",
    "モンテカルロ木探索(MCTS): ドメイン固有の知識を使わず，確率的に探索"
   ]
  },
  {
   "cell_type": "markdown",
   "metadata": {},
   "source": [
    "## ゲームの分類\n",
    "- 確定: ゲームの経過がプレイヤーの決定にのみ依存\n",
    "- 不確定: サイコロやカードのシャッフルのようなランダム要素がある\n",
    "- 完全情報: 両方のプレイヤーがいつでも全てのゲーム状態を見ることができる\n",
    "- 不完全情報: 他のプレイヤーの手札が何かわからない，など，ゲームの一部しか見えない\n",
    "\n",
    "囲碁やチェスは完全確定情報ゲームに分類される  \n",
    "各手番には，理論的に最適な手が一つあり，最初の手で全てが計画できると言える  \n",
    "しかし，一般に膨大な選択肢があるため，計算機でも計算しきれない \n"
   ]
  }
 ],
 "metadata": {
  "kernelspec": {
   "display_name": "Python 3",
   "language": "python",
   "name": "python3"
  },
  "language_info": {
   "codemirror_mode": {
    "name": "ipython",
    "version": 3
   },
   "file_extension": ".py",
   "mimetype": "text/x-python",
   "name": "python",
   "nbconvert_exporter": "python",
   "pygments_lexer": "ipython3",
   "version": "3.7.0"
  }
 },
 "nbformat": 4,
 "nbformat_minor": 2
}
