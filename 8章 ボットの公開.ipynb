{
 "cells": [
  {
   "cell_type": "markdown",
   "metadata": {},
   "source": [
    "# やること\n",
    "- 囲碁ボットのアプリケーション，HTTPフロントエンドの作成  \n",
    "- ボット同士の対局\n",
    "- AWSにボットを配置しオンライン囲碁サーバに接続"
   ]
  },
  {
   "cell_type": "markdown",
   "metadata": {},
   "source": [
    "## 深層NNによる着手予測エージェントの作成\n",
    "dlgo/agent/predict.pyを作成"
   ]
  }
 ],
 "metadata": {
  "kernelspec": {
   "display_name": "Python 3",
   "language": "python",
   "name": "python3"
  },
  "language_info": {
   "codemirror_mode": {
    "name": "ipython",
    "version": 3
   },
   "file_extension": ".py",
   "mimetype": "text/x-python",
   "name": "python",
   "nbconvert_exporter": "python",
   "pygments_lexer": "ipython3",
   "version": "3.7.0"
  }
 },
 "nbformat": 4,
 "nbformat_minor": 2
}
